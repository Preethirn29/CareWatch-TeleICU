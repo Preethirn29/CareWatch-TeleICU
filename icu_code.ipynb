{
 "cells": [
  {
   "cell_type": "code",
   "execution_count": null,
   "id": "4efe64b7-8e63-4f74-b0d5-28cfeb4ac7b8",
   "metadata": {},
   "outputs": [],
   "source": [
    "print(\"Hello World\")"
   ]
  },
  {
   "cell_type": "code",
   "execution_count": null,
   "id": "ed144de3-1247-4b69-9d82-889c9b9a8507",
   "metadata": {},
   "outputs": [],
   "source": [
    "!python --version"
   ]
  },
  {
   "cell_type": "code",
   "execution_count": null,
   "id": "1cd58f28-5fda-45aa-8667-29b216ec8c16",
   "metadata": {},
   "outputs": [],
   "source": [
    "!git clone https://github.com/THU-MIG/yolov10.git"
   ]
  },
  {
   "cell_type": "code",
   "execution_count": null,
   "id": "cfa50a01-0a47-4d84-9121-ef56cb2813df",
   "metadata": {},
   "outputs": [],
   "source": [
    "cd .."
   ]
  },
  {
   "cell_type": "code",
   "execution_count": null,
   "id": "b1f34198-7767-4a22-a263-ae01ce8364af",
   "metadata": {},
   "outputs": [],
   "source": [
    "pip install ."
   ]
  },
  {
   "cell_type": "code",
   "execution_count": null,
   "id": "fcc6d2cb-9191-42f2-bbd7-c3539c23b2e8",
   "metadata": {},
   "outputs": [],
   "source": [
    "!pip install huggingface_hub"
   ]
  },
  {
   "cell_type": "code",
   "execution_count": null,
   "id": "93691b4a-3d39-483b-9072-712feeb8c426",
   "metadata": {},
   "outputs": [],
   "source": [
    "import os\n",
    "import urllib.request\n",
    "\n",
    "weights_dir = os.path.join(os.getcwd(), \"weights\")\n",
    "os.makedirs(weights_dir, exist_ok=True)\n",
    "\n",
    "url = \"https://github.com/jameslahm/yolov10/releases/download/v1.0/yolov10s.pt\"\n",
    "\n",
    "file_name = os.path.join(weights_dir, os.path.basename(url))\n",
    "urllib.request.urlretrieve(url, file_name)\n",
    "print(f\"Downloaded {file_name}\")"
   ]
  },
  {
   "cell_type": "code",
   "execution_count": null,
   "id": "6a613f2c-45f1-4499-9628-03be6b235dff",
   "metadata": {},
   "outputs": [],
   "source": [
    "ls"
   ]
  },
  {
   "cell_type": "code",
   "execution_count": null,
   "id": "9fda0d69-8c1a-4f10-a2cd-553ee6b02376",
   "metadata": {},
   "outputs": [],
   "source": [
    "!yolo task=detect mode=train epochs=100 batch=16 plots=True model=weights/yolov10s.pt data=custom_data.yaml"
   ]
  },
  {
   "cell_type": "code",
   "execution_count": null,
   "id": "b8472d4c",
   "metadata": {},
   "outputs": [],
   "source": [
    "!yolo task=detect mode=predict conf=0.25 save=True model=runs/detect/train/weights/best.pt source=icu_dataset/perfect.jpg"
   ]
  }
 ],
 "metadata": {
  "kernelspec": {
   "display_name": "Python 3 (ipykernel)",
   "language": "python",
   "name": "python3"
  },
  "language_info": {
   "codemirror_mode": {
    "name": "ipython",
    "version": 3
   },
   "file_extension": ".py",
   "mimetype": "text/x-python",
   "name": "python",
   "nbconvert_exporter": "python",
   "pygments_lexer": "ipython3",
   "version": "3.12.4"
  }
 },
 "nbformat": 4,
 "nbformat_minor": 5
}
